{
  "nbformat": 4,
  "nbformat_minor": 0,
  "metadata": {
    "colab": {
      "provenance": []
    },
    "kernelspec": {
      "name": "python3",
      "display_name": "Python 3"
    },
    "language_info": {
      "name": "python"
    }
  },
  "cells": [
    {
      "cell_type": "code",
      "source": [
        "!pip install pandas python-docx"
      ],
      "metadata": {
        "id": "eSErkwMT3fI0"
      },
      "execution_count": null,
      "outputs": []
    },
    {
      "cell_type": "code",
      "execution_count": null,
      "metadata": {
        "id": "p0YH60Vs4vsc"
      },
      "outputs": [],
      "source": [
        "# import libraries\n",
        "import requests\n",
        "from bs4 import BeautifulSoup as bs\n",
        "\n",
        "from docx import Document"
      ]
    },
    {
      "cell_type": "code",
      "source": [
        "product_names = []\n",
        "processor_types = []\n",
        "product_rams = []\n",
        "product_storages = []\n",
        "product_displays = []\n",
        "product_features = []\n",
        "product_prices = []"
      ],
      "metadata": {
        "id": "UR6Jyug3fXcw"
      },
      "execution_count": null,
      "outputs": []
    },
    {
      "cell_type": "code",
      "source": [
        "# Initialize page number\n",
        "page = 1\n",
        "\n",
        "# Initialize a counter for the iterations\n",
        "iteration = 0\n",
        "\n",
        "while iteration < 5:\n",
        "    # Generate URL for the current page\n",
        "    url = f'https://www.startech.com.bd/laptop-notebook/laptop?filter_status=7&limit=90&page={page}'\n",
        "\n",
        "\n",
        "    # Query the website and return the html to the variable ‘response’\n",
        "    response = requests.get(url).text\n",
        "\n",
        "    soup = bs(response, \"html.parser\")\n",
        "\n",
        "    # Find all product details\n",
        "    for product in soup.find_all('div', class_='p-item-details'):\n",
        "      # If no products are found, we've reached the end of the pages\n",
        "      if not product:\n",
        "          break\n",
        "\n",
        "      # Get product name and link\n",
        "      product_name_link = product.find('h4', class_='p-item-name').find('a')\n",
        "      if product_name_link:\n",
        "          product_name = product_name_link.text\n",
        "          product_names.append(product_name)\n",
        "          print(f'Product Name: {product_name}')\n",
        "\n",
        "      # Get product attributes\n",
        "      product_attributes = product.find('div', class_='short-description').find_all('li')\n",
        "      for attribute in product_attributes:\n",
        "          attribute_text = attribute.text\n",
        "          if 'Processor' in attribute_text:\n",
        "              processor_type = attribute_text.replace(\"Processor: \", \"\").replace(\"\\r\", \"\")\n",
        "              processor_types.append(processor_type)\n",
        "              print(f'Processor: {processor_type}')\n",
        "\n",
        "          elif 'RAM' in attribute_text and 'Storage' in attribute_text:\n",
        "              ram_storage = attribute_text.replace(\"\\r\", \"\").split(\"Storage:\")\n",
        "              ram = ram_storage[0].replace(\"RAM: \", \"\")\n",
        "              storage = ram_storage[1]\n",
        "              product_rams.append(ram)\n",
        "              product_storages.append(storage)\n",
        "              print(f'RAM: {ram}')\n",
        "              print(f'Storage: {storage}')\n",
        "\n",
        "          elif 'Display' in attribute_text:\n",
        "              product_display = attribute_text.replace(\"Display: \", \"\").replace(\"\\r\", \"\")\n",
        "              product_displays.append(product_display)\n",
        "              print(f'Display Size (Inch): {attribute_text.replace(\"Display: \", \"\")}')\n",
        "\n",
        "          elif 'Features' in attribute_text:\n",
        "              product_feature = attribute_text.replace(\"Features: \", \"\").replace(\"\\r\", \"\")\n",
        "              product_features.append(product_feature)\n",
        "              print(f'Features: {attribute_text.replace(\"Features: \", \"\")}')\n",
        "\n",
        "      # Get product price\n",
        "      product_price = product.find('div', class_='p-item-price').find('span')\n",
        "      if product_price:\n",
        "          price = product_price.text.replace('৳', '')\n",
        "          product_prices.append(price)\n",
        "          print(f'Product Price: {price}')\n",
        "\n",
        "    # Increment the page number after each iteration\n",
        "    page += 1\n",
        "\n",
        "    # Increment the iteration counter\n",
        "    iteration += 1"
      ],
      "metadata": {
        "id": "QUOQU-LV88vi"
      },
      "execution_count": null,
      "outputs": []
    },
    {
      "cell_type": "code",
      "source": [
        "# print(soup)"
      ],
      "metadata": {
        "id": "z-rUpIK0-FqL"
      },
      "execution_count": null,
      "outputs": []
    },
    {
      "cell_type": "code",
      "source": [
        "product_names[:5]"
      ],
      "metadata": {
        "id": "3xcNriiAUSJ2"
      },
      "execution_count": null,
      "outputs": []
    },
    {
      "cell_type": "code",
      "source": [
        "processor_types[:5]"
      ],
      "metadata": {
        "id": "rUCJ9MUHYBLu"
      },
      "execution_count": null,
      "outputs": []
    },
    {
      "cell_type": "code",
      "source": [
        "product_rams[:5]"
      ],
      "metadata": {
        "id": "6LPgF8ljYGfY"
      },
      "execution_count": null,
      "outputs": []
    },
    {
      "cell_type": "code",
      "source": [
        "product_storages[:5]"
      ],
      "metadata": {
        "id": "SVHureCKYJKI"
      },
      "execution_count": null,
      "outputs": []
    },
    {
      "cell_type": "code",
      "source": [
        "product_displays[:5]"
      ],
      "metadata": {
        "id": "EWCUlPReYOXl"
      },
      "execution_count": null,
      "outputs": []
    },
    {
      "cell_type": "code",
      "source": [
        "product_features[:5]"
      ],
      "metadata": {
        "id": "1eCbRt39msSJ"
      },
      "execution_count": null,
      "outputs": []
    },
    {
      "cell_type": "code",
      "source": [
        "product_prices[:5]"
      ],
      "metadata": {
        "id": "oN_h0C6SYRJ-"
      },
      "execution_count": null,
      "outputs": []
    },
    {
      "cell_type": "code",
      "source": [
        "product_prices_len = len(product_prices)\n",
        "product_prices_len"
      ],
      "metadata": {
        "id": "P8xXVhVya44l"
      },
      "execution_count": null,
      "outputs": []
    },
    {
      "cell_type": "markdown",
      "source": [
        "# Export to Excel CSV"
      ],
      "metadata": {
        "id": "DclU4gOAbqcS"
      }
    },
    {
      "cell_type": "code",
      "source": [
        "import csv"
      ],
      "metadata": {
        "id": "X0gN-CQJbvb3"
      },
      "execution_count": null,
      "outputs": []
    },
    {
      "cell_type": "code",
      "source": [
        "# Prepare data for CSV\n",
        "rows = zip(product_names, processor_types, product_rams, product_storages, product_displays, product_features, product_prices)\n",
        "\n",
        "# Write to CSV\n",
        "with open('StarTechBot_Laptop_Data.csv', 'w', newline='') as f:\n",
        "    writer = csv.writer(f)\n",
        "    writer.writerow([\"Product Name\", \"Processor Type\", \"RAM\", \"Storage\", \"Display\", \"Features\" ,\"Price\"])  # writing headers\n",
        "    for row in rows:\n",
        "        writer.writerow(row)"
      ],
      "metadata": {
        "id": "JREXwLAScBSJ"
      },
      "execution_count": null,
      "outputs": []
    },
    {
      "cell_type": "code",
      "source": [
        "from google.colab import files\n",
        "\n",
        "# Download the file to your computer\n",
        "files.download('StarTechBot_Laptop_Data.csv')"
      ],
      "metadata": {
        "id": "YDq9yGphdvEp"
      },
      "execution_count": null,
      "outputs": []
    },
    {
      "cell_type": "code",
      "source": [
        "import pandas as pd\n",
        "StarTechBot_Laptop_Data = pd.read_csv(\"StarTechBot_Laptop_Data.csv\")"
      ],
      "metadata": {
        "id": "QlYjZX9lc72J"
      },
      "execution_count": null,
      "outputs": []
    },
    {
      "cell_type": "code",
      "source": [
        "# Remove commas from the \"RAM\" column\n",
        "StarTechBot_Laptop_Data['RAM'] = StarTechBot_Laptop_Data['RAM'].str.replace(',', '')"
      ],
      "metadata": {
        "id": "wVLnTAQMXJ5v"
      },
      "execution_count": null,
      "outputs": []
    },
    {
      "cell_type": "code",
      "source": [
        "StarTechBot_Laptop_Data.shape"
      ],
      "metadata": {
        "id": "mZav_GLkecP6"
      },
      "execution_count": null,
      "outputs": []
    },
    {
      "cell_type": "code",
      "source": [
        "StarTechBot_Laptop_Data.head()"
      ],
      "metadata": {
        "id": "nw32G-7XeE3L"
      },
      "execution_count": null,
      "outputs": []
    },
    {
      "cell_type": "code",
      "source": [
        "StarTechBot_Laptop_Data.tail()"
      ],
      "metadata": {
        "id": "t5Dr5kcm3wdJ"
      },
      "execution_count": null,
      "outputs": []
    },
    {
      "cell_type": "markdown",
      "source": [
        "# **Turning the CSV file to a word document**\n"
      ],
      "metadata": {
        "id": "ps70M-854JHp"
      }
    },
    {
      "cell_type": "code",
      "source": [
        "# Create a new Word document\n",
        "doc = Document()"
      ],
      "metadata": {
        "id": "_3hi6btN4Qzx"
      },
      "execution_count": null,
      "outputs": []
    },
    {
      "cell_type": "code",
      "source": [
        "# Initialize a question counter\n",
        "question_counter = 1"
      ],
      "metadata": {
        "id": "wQQV_tEW60JV"
      },
      "execution_count": null,
      "outputs": []
    },
    {
      "cell_type": "code",
      "source": [
        "# Iterate over the rows of the DataFrame\n",
        "for i, row in StarTechBot_Laptop_Data.iterrows():\n",
        "    # Create the questions and answers\n",
        "    q1 = f\"Question {question_counter}: What are the details of {row['Product Name']}?\"\n",
        "    a1 = f\"Answer: {row['Product Name']} has - Processor type: {row['Processor Type']}; RAM: {row['RAM']}; Storage: {row['Storage']}; Display: {row['Display']}; Features: {row['Features']}. It's price is {row['Price']} BDT.\"\n",
        "    question_counter += 1\n",
        "\n",
        "    q2 = f\"Question {question_counter}: What is the price of {row['Product Name']}?\"\n",
        "    a2 = f\"Answer: It's price is {row['Price']} BDT.\"\n",
        "    question_counter += 1\n",
        "\n",
        "    q3 = f\"Question {question_counter}: What are the features of {row['Product Name']}?\"\n",
        "    a3 = a1\n",
        "    question_counter += 1\n",
        "\n",
        "\n",
        "    # Add the questions and answers to the Word document\n",
        "    doc.add_paragraph(q1)\n",
        "    doc.add_paragraph(a1)\n",
        "    doc.add_paragraph(q2)\n",
        "    doc.add_paragraph(a2)\n",
        "    doc.add_paragraph(q3)\n",
        "    doc.add_paragraph(a3)\n",
        "\n",
        "# Save the Word document\n",
        "doc.save('StarTechBot_Laptop_Data.docx')"
      ],
      "metadata": {
        "id": "hYcwAiiv4onk"
      },
      "execution_count": null,
      "outputs": []
    },
    {
      "cell_type": "code",
      "source": [
        "files.download('StarTechBot_Laptop_Data.docx')"
      ],
      "metadata": {
        "id": "iIbVffa-5sUQ"
      },
      "execution_count": null,
      "outputs": []
    }
  ]
}
{
  "nbformat": 4,
  "nbformat_minor": 0,
  "metadata": {
    "colab": {
      "provenance": []
    },
    "kernelspec": {
      "name": "python3",
      "display_name": "Python 3"
    },
    "language_info": {
      "name": "python"
    }
  },
  "cells": [
    {
      "cell_type": "code",
      "source": [
        "!pip install pandas python-docx"
      ],
      "metadata": {
        "colab": {
          "base_uri": "https://localhost:8080/"
        },
        "id": "eSErkwMT3fI0",
        "outputId": "e6e81119-e8bc-4236-fe1e-806c186a0efb"
      },
      "execution_count": 26,
      "outputs": [
        {
          "output_type": "stream",
          "name": "stdout",
          "text": [
            "Requirement already satisfied: pandas in /usr/local/lib/python3.10/dist-packages (1.5.3)\n",
            "Requirement already satisfied: python-docx in /usr/local/lib/python3.10/dist-packages (1.1.0)\n",
            "Requirement already satisfied: python-dateutil>=2.8.1 in /usr/local/lib/python3.10/dist-packages (from pandas) (2.8.2)\n",
            "Requirement already satisfied: pytz>=2020.1 in /usr/local/lib/python3.10/dist-packages (from pandas) (2023.4)\n",
            "Requirement already satisfied: numpy>=1.21.0 in /usr/local/lib/python3.10/dist-packages (from pandas) (1.25.2)\n",
            "Requirement already satisfied: lxml>=3.1.0 in /usr/local/lib/python3.10/dist-packages (from python-docx) (4.9.4)\n",
            "Requirement already satisfied: typing-extensions in /usr/local/lib/python3.10/dist-packages (from python-docx) (4.9.0)\n",
            "Requirement already satisfied: six>=1.5 in /usr/local/lib/python3.10/dist-packages (from python-dateutil>=2.8.1->pandas) (1.16.0)\n"
          ]
        }
      ]
    },
    {
      "cell_type": "code",
      "execution_count": 27,
      "metadata": {
        "id": "p0YH60Vs4vsc"
      },
      "outputs": [],
      "source": [
        "# import libraries\n",
        "import requests\n",
        "from bs4 import BeautifulSoup as bs\n",
        "\n",
        "from docx import Document"
      ]
    },
    {
      "cell_type": "code",
      "source": [
        "product_names = []\n",
        "processor_types = []\n",
        "product_rams = []\n",
        "product_storages = []\n",
        "product_displays = []\n",
        "product_features = []\n",
        "product_prices = []"
      ],
      "metadata": {
        "id": "UR6Jyug3fXcw"
      },
      "execution_count": 28,
      "outputs": []
    },
    {
      "cell_type": "code",
      "source": [
        "# Initialize page number\n",
        "page = 1\n",
        "\n",
        "# Initialize a counter for the iterations\n",
        "iteration = 0\n",
        "\n",
        "while iteration < 5:\n",
        "    # Generate URL for the current page\n",
        "    url = f'https://www.startech.com.bd/laptop-notebook/laptop?filter_status=7&limit=90&page={page}'\n",
        "\n",
        "\n",
        "    # Query the website and return the html to the variable ‘response’\n",
        "    response = requests.get(url).text\n",
        "\n",
        "    soup = bs(response, \"html.parser\")\n",
        "\n",
        "    # Find all product details\n",
        "    for product in soup.find_all('div', class_='p-item-details'):\n",
        "      # If no products are found, we've reached the end of the pages\n",
        "      if not product:\n",
        "          break\n",
        "\n",
        "      # Get product name and link\n",
        "      product_name_link = product.find('h4', class_='p-item-name').find('a')\n",
        "      if product_name_link:\n",
        "          product_name = product_name_link.text\n",
        "          product_names.append(product_name)\n",
        "          print(f'Product Name: {product_name}')\n",
        "\n",
        "      # Get product attributes\n",
        "      product_attributes = product.find('div', class_='short-description').find_all('li')\n",
        "      for attribute in product_attributes:\n",
        "          attribute_text = attribute.text\n",
        "          if 'Processor' in attribute_text:\n",
        "              processor_type = attribute_text.replace(\"Processor: \", \"\").replace(\"\\r\", \"\")\n",
        "              processor_types.append(processor_type)\n",
        "              print(f'Processor: {processor_type}')\n",
        "\n",
        "          elif 'RAM' in attribute_text and 'Storage' in attribute_text:\n",
        "              ram_storage = attribute_text.replace(\"\\r\", \"\").split(\"Storage:\")\n",
        "              ram = ram_storage[0].replace(\"RAM: \", \"\")\n",
        "              storage = ram_storage[1]\n",
        "              product_rams.append(ram)\n",
        "              product_storages.append(storage)\n",
        "              print(f'RAM: {ram}')\n",
        "              print(f'Storage: {storage}')\n",
        "\n",
        "          elif 'Display' in attribute_text:\n",
        "              product_display = attribute_text.replace(\"Display: \", \"\").replace(\"\\r\", \"\")\n",
        "              product_displays.append(product_display)\n",
        "              print(f'Display Size (Inch): {attribute_text.replace(\"Display: \", \"\")}')\n",
        "\n",
        "          elif 'Features' in attribute_text:\n",
        "              product_feature = attribute_text.replace(\"Features: \", \"\").replace(\"\\r\", \"\")\n",
        "              product_features.append(product_feature)\n",
        "              print(f'Features: {attribute_text.replace(\"Features: \", \"\")}')\n",
        "\n",
        "      # Get product price\n",
        "      product_price = product.find('div', class_='p-item-price').find('span')\n",
        "      if product_price:\n",
        "          price = product_price.text.replace('৳', '')\n",
        "          product_prices.append(price)\n",
        "          print(f'Product Price: {price}')\n",
        "\n",
        "    # Increment the page number after each iteration\n",
        "    page += 1\n",
        "\n",
        "    # Increment the iteration counter\n",
        "    iteration += 1"
      ],
      "metadata": {
        "id": "QUOQU-LV88vi"
      },
      "execution_count": 29,
      "outputs": []
    },
    {
      "cell_type": "code",
      "source": [
        "# print(soup)"
      ],
      "metadata": {
        "id": "z-rUpIK0-FqL"
      },
      "execution_count": 30,
      "outputs": []
    },
    {
      "cell_type": "code",
      "source": [
        "product_names[:5]"
      ],
      "metadata": {
        "id": "3xcNriiAUSJ2",
        "colab": {
          "base_uri": "https://localhost:8080/"
        },
        "outputId": "e7dbdddc-ea4d-42a9-a736-e47a192a7ac6"
      },
      "execution_count": 31,
      "outputs": [
        {
          "output_type": "execute_result",
          "data": {
            "text/plain": [
              "[]"
            ]
          },
          "metadata": {},
          "execution_count": 31
        }
      ]
    },
    {
      "cell_type": "code",
      "source": [
        "processor_types[:5]"
      ],
      "metadata": {
        "id": "rUCJ9MUHYBLu",
        "colab": {
          "base_uri": "https://localhost:8080/"
        },
        "outputId": "ad7e881b-f40b-4557-bf2f-de1ba2955695"
      },
      "execution_count": 32,
      "outputs": [
        {
          "output_type": "execute_result",
          "data": {
            "text/plain": [
              "[]"
            ]
          },
          "metadata": {},
          "execution_count": 32
        }
      ]
    },
    {
      "cell_type": "code",
      "source": [
        "product_rams[:5]"
      ],
      "metadata": {
        "id": "6LPgF8ljYGfY",
        "colab": {
          "base_uri": "https://localhost:8080/"
        },
        "outputId": "388f163e-70f8-4701-aaa1-26b07e1c203b"
      },
      "execution_count": 33,
      "outputs": [
        {
          "output_type": "execute_result",
          "data": {
            "text/plain": [
              "[]"
            ]
          },
          "metadata": {},
          "execution_count": 33
        }
      ]
    },
    {
      "cell_type": "code",
      "source": [
        "product_storages[:5]"
      ],
      "metadata": {
        "id": "SVHureCKYJKI",
        "colab": {
          "base_uri": "https://localhost:8080/"
        },
        "outputId": "abdc136f-ce31-41b2-f0e4-abacd317b570"
      },
      "execution_count": 34,
      "outputs": [
        {
          "output_type": "execute_result",
          "data": {
            "text/plain": [
              "[]"
            ]
          },
          "metadata": {},
          "execution_count": 34
        }
      ]
    },
    {
      "cell_type": "code",
      "source": [
        "product_displays[:5]"
      ],
      "metadata": {
        "id": "EWCUlPReYOXl",
        "colab": {
          "base_uri": "https://localhost:8080/"
        },
        "outputId": "5e6afe8d-2d4d-4e1f-b230-e465f4abc78d"
      },
      "execution_count": 35,
      "outputs": [
        {
          "output_type": "execute_result",
          "data": {
            "text/plain": [
              "[]"
            ]
          },
          "metadata": {},
          "execution_count": 35
        }
      ]
    },
    {
      "cell_type": "code",
      "source": [
        "product_features[:5]"
      ],
      "metadata": {
        "colab": {
          "base_uri": "https://localhost:8080/"
        },
        "id": "1eCbRt39msSJ",
        "outputId": "d09bd8a4-2e45-472b-e2e5-bb7bc3ef42a7"
      },
      "execution_count": 36,
      "outputs": [
        {
          "output_type": "execute_result",
          "data": {
            "text/plain": [
              "[]"
            ]
          },
          "metadata": {},
          "execution_count": 36
        }
      ]
    },
    {
      "cell_type": "code",
      "source": [
        "product_prices[:5]"
      ],
      "metadata": {
        "id": "oN_h0C6SYRJ-",
        "colab": {
          "base_uri": "https://localhost:8080/"
        },
        "outputId": "04e58a7a-d6ea-4abf-c099-63334a03e6ff"
      },
      "execution_count": 37,
      "outputs": [
        {
          "output_type": "execute_result",
          "data": {
            "text/plain": [
              "[]"
            ]
          },
          "metadata": {},
          "execution_count": 37
        }
      ]
    },
    {
      "cell_type": "code",
      "source": [
        "product_prices_len = len(product_prices)\n",
        "product_prices_len"
      ],
      "metadata": {
        "id": "P8xXVhVya44l",
        "colab": {
          "base_uri": "https://localhost:8080/"
        },
        "outputId": "b2e07f92-7c4e-42fe-a215-e2209f733704"
      },
      "execution_count": 38,
      "outputs": [
        {
          "output_type": "execute_result",
          "data": {
            "text/plain": [
              "0"
            ]
          },
          "metadata": {},
          "execution_count": 38
        }
      ]
    },
    {
      "cell_type": "markdown",
      "source": [
        "# Export to Excel CSV"
      ],
      "metadata": {
        "id": "DclU4gOAbqcS"
      }
    },
    {
      "cell_type": "code",
      "source": [
        "import csv"
      ],
      "metadata": {
        "id": "X0gN-CQJbvb3"
      },
      "execution_count": 39,
      "outputs": []
    },
    {
      "cell_type": "code",
      "source": [
        "# Prepare data for CSV\n",
        "rows = zip(product_names, processor_types, product_rams, product_storages, product_displays, product_features, product_prices)\n",
        "\n",
        "# Write to CSV\n",
        "with open('StarTechBot_Laptop_Data.csv', 'w', newline='') as f:\n",
        "    writer = csv.writer(f)\n",
        "    writer.writerow([\"Product Name\", \"Processor Type\", \"RAM\", \"Storage\", \"Display\", \"Features\" ,\"Price\"])  # writing headers\n",
        "    for row in rows:\n",
        "        writer.writerow(row)"
      ],
      "metadata": {
        "id": "JREXwLAScBSJ"
      },
      "execution_count": 40,
      "outputs": []
    },
    {
      "cell_type": "code",
      "source": [
        "from google.colab import files\n",
        "\n",
        "# Download the file to your computer\n",
        "files.download('StarTechBot_Laptop_Data.csv')"
      ],
      "metadata": {
        "id": "YDq9yGphdvEp",
        "colab": {
          "base_uri": "https://localhost:8080/",
          "height": 17
        },
        "outputId": "81701965-0a53-4bc4-e84c-683ea2a0e007"
      },
      "execution_count": 41,
      "outputs": [
        {
          "output_type": "display_data",
          "data": {
            "text/plain": [
              "<IPython.core.display.Javascript object>"
            ],
            "application/javascript": [
              "\n",
              "    async function download(id, filename, size) {\n",
              "      if (!google.colab.kernel.accessAllowed) {\n",
              "        return;\n",
              "      }\n",
              "      const div = document.createElement('div');\n",
              "      const label = document.createElement('label');\n",
              "      label.textContent = `Downloading \"${filename}\": `;\n",
              "      div.appendChild(label);\n",
              "      const progress = document.createElement('progress');\n",
              "      progress.max = size;\n",
              "      div.appendChild(progress);\n",
              "      document.body.appendChild(div);\n",
              "\n",
              "      const buffers = [];\n",
              "      let downloaded = 0;\n",
              "\n",
              "      const channel = await google.colab.kernel.comms.open(id);\n",
              "      // Send a message to notify the kernel that we're ready.\n",
              "      channel.send({})\n",
              "\n",
              "      for await (const message of channel.messages) {\n",
              "        // Send a message to notify the kernel that we're ready.\n",
              "        channel.send({})\n",
              "        if (message.buffers) {\n",
              "          for (const buffer of message.buffers) {\n",
              "            buffers.push(buffer);\n",
              "            downloaded += buffer.byteLength;\n",
              "            progress.value = downloaded;\n",
              "          }\n",
              "        }\n",
              "      }\n",
              "      const blob = new Blob(buffers, {type: 'application/binary'});\n",
              "      const a = document.createElement('a');\n",
              "      a.href = window.URL.createObjectURL(blob);\n",
              "      a.download = filename;\n",
              "      div.appendChild(a);\n",
              "      a.click();\n",
              "      div.remove();\n",
              "    }\n",
              "  "
            ]
          },
          "metadata": {}
        },
        {
          "output_type": "display_data",
          "data": {
            "text/plain": [
              "<IPython.core.display.Javascript object>"
            ],
            "application/javascript": [
              "download(\"download_152908ca-84d5-4b13-841a-9535a9c662c6\", \"StarTechBot_Laptop_Data.csv\", 64)"
            ]
          },
          "metadata": {}
        }
      ]
    },
    {
      "cell_type": "code",
      "source": [
        "import pandas as pd\n",
        "StarTechBot_Laptop_Data = pd.read_csv(\"StarTechBot_Laptop_Data.csv\")"
      ],
      "metadata": {
        "id": "QlYjZX9lc72J"
      },
      "execution_count": 42,
      "outputs": []
    },
    {
      "cell_type": "code",
      "source": [
        "# Remove commas from the \"RAM\" column\n",
        "StarTechBot_Laptop_Data['RAM'] = StarTechBot_Laptop_Data['RAM'].str.replace(',', '')"
      ],
      "metadata": {
        "id": "wVLnTAQMXJ5v"
      },
      "execution_count": 43,
      "outputs": []
    },
    {
      "cell_type": "code",
      "source": [
        "StarTechBot_Laptop_Data.shape"
      ],
      "metadata": {
        "id": "mZav_GLkecP6",
        "colab": {
          "base_uri": "https://localhost:8080/"
        },
        "outputId": "49f54768-94e1-498f-c16f-a6030f7c0a9d"
      },
      "execution_count": 44,
      "outputs": [
        {
          "output_type": "execute_result",
          "data": {
            "text/plain": [
              "(0, 7)"
            ]
          },
          "metadata": {},
          "execution_count": 44
        }
      ]
    },
    {
      "cell_type": "code",
      "source": [
        "StarTechBot_Laptop_Data.head()"
      ],
      "metadata": {
        "id": "nw32G-7XeE3L",
        "colab": {
          "base_uri": "https://localhost:8080/",
          "height": 53
        },
        "outputId": "3454bd50-19e8-443a-ac76-187262cca4c0"
      },
      "execution_count": 45,
      "outputs": [
        {
          "output_type": "execute_result",
          "data": {
            "text/plain": [
              "Empty DataFrame\n",
              "Columns: [Product Name, Processor Type, RAM, Storage, Display, Features, Price]\n",
              "Index: []"
            ],
            "text/html": [
              "\n",
              "  <div id=\"df-9cbfcd6c-9e97-4b50-9ee8-2676bd4c40c6\" class=\"colab-df-container\">\n",
              "    <div>\n",
              "<style scoped>\n",
              "    .dataframe tbody tr th:only-of-type {\n",
              "        vertical-align: middle;\n",
              "    }\n",
              "\n",
              "    .dataframe tbody tr th {\n",
              "        vertical-align: top;\n",
              "    }\n",
              "\n",
              "    .dataframe thead th {\n",
              "        text-align: right;\n",
              "    }\n",
              "</style>\n",
              "<table border=\"1\" class=\"dataframe\">\n",
              "  <thead>\n",
              "    <tr style=\"text-align: right;\">\n",
              "      <th></th>\n",
              "      <th>Product Name</th>\n",
              "      <th>Processor Type</th>\n",
              "      <th>RAM</th>\n",
              "      <th>Storage</th>\n",
              "      <th>Display</th>\n",
              "      <th>Features</th>\n",
              "      <th>Price</th>\n",
              "    </tr>\n",
              "  </thead>\n",
              "  <tbody>\n",
              "  </tbody>\n",
              "</table>\n",
              "</div>\n",
              "    <div class=\"colab-df-buttons\">\n",
              "\n",
              "  <div class=\"colab-df-container\">\n",
              "    <button class=\"colab-df-convert\" onclick=\"convertToInteractive('df-9cbfcd6c-9e97-4b50-9ee8-2676bd4c40c6')\"\n",
              "            title=\"Convert this dataframe to an interactive table.\"\n",
              "            style=\"display:none;\">\n",
              "\n",
              "  <svg xmlns=\"http://www.w3.org/2000/svg\" height=\"24px\" viewBox=\"0 -960 960 960\">\n",
              "    <path d=\"M120-120v-720h720v720H120Zm60-500h600v-160H180v160Zm220 220h160v-160H400v160Zm0 220h160v-160H400v160ZM180-400h160v-160H180v160Zm440 0h160v-160H620v160ZM180-180h160v-160H180v160Zm440 0h160v-160H620v160Z\"/>\n",
              "  </svg>\n",
              "    </button>\n",
              "\n",
              "  <style>\n",
              "    .colab-df-container {\n",
              "      display:flex;\n",
              "      gap: 12px;\n",
              "    }\n",
              "\n",
              "    .colab-df-convert {\n",
              "      background-color: #E8F0FE;\n",
              "      border: none;\n",
              "      border-radius: 50%;\n",
              "      cursor: pointer;\n",
              "      display: none;\n",
              "      fill: #1967D2;\n",
              "      height: 32px;\n",
              "      padding: 0 0 0 0;\n",
              "      width: 32px;\n",
              "    }\n",
              "\n",
              "    .colab-df-convert:hover {\n",
              "      background-color: #E2EBFA;\n",
              "      box-shadow: 0px 1px 2px rgba(60, 64, 67, 0.3), 0px 1px 3px 1px rgba(60, 64, 67, 0.15);\n",
              "      fill: #174EA6;\n",
              "    }\n",
              "\n",
              "    .colab-df-buttons div {\n",
              "      margin-bottom: 4px;\n",
              "    }\n",
              "\n",
              "    [theme=dark] .colab-df-convert {\n",
              "      background-color: #3B4455;\n",
              "      fill: #D2E3FC;\n",
              "    }\n",
              "\n",
              "    [theme=dark] .colab-df-convert:hover {\n",
              "      background-color: #434B5C;\n",
              "      box-shadow: 0px 1px 3px 1px rgba(0, 0, 0, 0.15);\n",
              "      filter: drop-shadow(0px 1px 2px rgba(0, 0, 0, 0.3));\n",
              "      fill: #FFFFFF;\n",
              "    }\n",
              "  </style>\n",
              "\n",
              "    <script>\n",
              "      const buttonEl =\n",
              "        document.querySelector('#df-9cbfcd6c-9e97-4b50-9ee8-2676bd4c40c6 button.colab-df-convert');\n",
              "      buttonEl.style.display =\n",
              "        google.colab.kernel.accessAllowed ? 'block' : 'none';\n",
              "\n",
              "      async function convertToInteractive(key) {\n",
              "        const element = document.querySelector('#df-9cbfcd6c-9e97-4b50-9ee8-2676bd4c40c6');\n",
              "        const dataTable =\n",
              "          await google.colab.kernel.invokeFunction('convertToInteractive',\n",
              "                                                    [key], {});\n",
              "        if (!dataTable) return;\n",
              "\n",
              "        const docLinkHtml = 'Like what you see? Visit the ' +\n",
              "          '<a target=\"_blank\" href=https://colab.research.google.com/notebooks/data_table.ipynb>data table notebook</a>'\n",
              "          + ' to learn more about interactive tables.';\n",
              "        element.innerHTML = '';\n",
              "        dataTable['output_type'] = 'display_data';\n",
              "        await google.colab.output.renderOutput(dataTable, element);\n",
              "        const docLink = document.createElement('div');\n",
              "        docLink.innerHTML = docLinkHtml;\n",
              "        element.appendChild(docLink);\n",
              "      }\n",
              "    </script>\n",
              "  </div>\n",
              "\n",
              "\n",
              "    </div>\n",
              "  </div>\n"
            ],
            "application/vnd.google.colaboratory.intrinsic+json": {
              "type": "dataframe",
              "variable_name": "StarTechBot_Laptop_Data",
              "repr_error": "'str' object has no attribute 'empty'"
            }
          },
          "metadata": {},
          "execution_count": 45
        }
      ]
    },
    {
      "cell_type": "code",
      "source": [
        "StarTechBot_Laptop_Data.tail()"
      ],
      "metadata": {
        "colab": {
          "base_uri": "https://localhost:8080/",
          "height": 53
        },
        "id": "t5Dr5kcm3wdJ",
        "outputId": "4bd7c60a-f8f3-4e38-bcb9-e026bd6e6029"
      },
      "execution_count": 46,
      "outputs": [
        {
          "output_type": "execute_result",
          "data": {
            "text/plain": [
              "Empty DataFrame\n",
              "Columns: [Product Name, Processor Type, RAM, Storage, Display, Features, Price]\n",
              "Index: []"
            ],
            "text/html": [
              "\n",
              "  <div id=\"df-0bf4f05c-757b-45dc-9a89-d7eb9fc117ae\" class=\"colab-df-container\">\n",
              "    <div>\n",
              "<style scoped>\n",
              "    .dataframe tbody tr th:only-of-type {\n",
              "        vertical-align: middle;\n",
              "    }\n",
              "\n",
              "    .dataframe tbody tr th {\n",
              "        vertical-align: top;\n",
              "    }\n",
              "\n",
              "    .dataframe thead th {\n",
              "        text-align: right;\n",
              "    }\n",
              "</style>\n",
              "<table border=\"1\" class=\"dataframe\">\n",
              "  <thead>\n",
              "    <tr style=\"text-align: right;\">\n",
              "      <th></th>\n",
              "      <th>Product Name</th>\n",
              "      <th>Processor Type</th>\n",
              "      <th>RAM</th>\n",
              "      <th>Storage</th>\n",
              "      <th>Display</th>\n",
              "      <th>Features</th>\n",
              "      <th>Price</th>\n",
              "    </tr>\n",
              "  </thead>\n",
              "  <tbody>\n",
              "  </tbody>\n",
              "</table>\n",
              "</div>\n",
              "    <div class=\"colab-df-buttons\">\n",
              "\n",
              "  <div class=\"colab-df-container\">\n",
              "    <button class=\"colab-df-convert\" onclick=\"convertToInteractive('df-0bf4f05c-757b-45dc-9a89-d7eb9fc117ae')\"\n",
              "            title=\"Convert this dataframe to an interactive table.\"\n",
              "            style=\"display:none;\">\n",
              "\n",
              "  <svg xmlns=\"http://www.w3.org/2000/svg\" height=\"24px\" viewBox=\"0 -960 960 960\">\n",
              "    <path d=\"M120-120v-720h720v720H120Zm60-500h600v-160H180v160Zm220 220h160v-160H400v160Zm0 220h160v-160H400v160ZM180-400h160v-160H180v160Zm440 0h160v-160H620v160ZM180-180h160v-160H180v160Zm440 0h160v-160H620v160Z\"/>\n",
              "  </svg>\n",
              "    </button>\n",
              "\n",
              "  <style>\n",
              "    .colab-df-container {\n",
              "      display:flex;\n",
              "      gap: 12px;\n",
              "    }\n",
              "\n",
              "    .colab-df-convert {\n",
              "      background-color: #E8F0FE;\n",
              "      border: none;\n",
              "      border-radius: 50%;\n",
              "      cursor: pointer;\n",
              "      display: none;\n",
              "      fill: #1967D2;\n",
              "      height: 32px;\n",
              "      padding: 0 0 0 0;\n",
              "      width: 32px;\n",
              "    }\n",
              "\n",
              "    .colab-df-convert:hover {\n",
              "      background-color: #E2EBFA;\n",
              "      box-shadow: 0px 1px 2px rgba(60, 64, 67, 0.3), 0px 1px 3px 1px rgba(60, 64, 67, 0.15);\n",
              "      fill: #174EA6;\n",
              "    }\n",
              "\n",
              "    .colab-df-buttons div {\n",
              "      margin-bottom: 4px;\n",
              "    }\n",
              "\n",
              "    [theme=dark] .colab-df-convert {\n",
              "      background-color: #3B4455;\n",
              "      fill: #D2E3FC;\n",
              "    }\n",
              "\n",
              "    [theme=dark] .colab-df-convert:hover {\n",
              "      background-color: #434B5C;\n",
              "      box-shadow: 0px 1px 3px 1px rgba(0, 0, 0, 0.15);\n",
              "      filter: drop-shadow(0px 1px 2px rgba(0, 0, 0, 0.3));\n",
              "      fill: #FFFFFF;\n",
              "    }\n",
              "  </style>\n",
              "\n",
              "    <script>\n",
              "      const buttonEl =\n",
              "        document.querySelector('#df-0bf4f05c-757b-45dc-9a89-d7eb9fc117ae button.colab-df-convert');\n",
              "      buttonEl.style.display =\n",
              "        google.colab.kernel.accessAllowed ? 'block' : 'none';\n",
              "\n",
              "      async function convertToInteractive(key) {\n",
              "        const element = document.querySelector('#df-0bf4f05c-757b-45dc-9a89-d7eb9fc117ae');\n",
              "        const dataTable =\n",
              "          await google.colab.kernel.invokeFunction('convertToInteractive',\n",
              "                                                    [key], {});\n",
              "        if (!dataTable) return;\n",
              "\n",
              "        const docLinkHtml = 'Like what you see? Visit the ' +\n",
              "          '<a target=\"_blank\" href=https://colab.research.google.com/notebooks/data_table.ipynb>data table notebook</a>'\n",
              "          + ' to learn more about interactive tables.';\n",
              "        element.innerHTML = '';\n",
              "        dataTable['output_type'] = 'display_data';\n",
              "        await google.colab.output.renderOutput(dataTable, element);\n",
              "        const docLink = document.createElement('div');\n",
              "        docLink.innerHTML = docLinkHtml;\n",
              "        element.appendChild(docLink);\n",
              "      }\n",
              "    </script>\n",
              "  </div>\n",
              "\n",
              "\n",
              "    </div>\n",
              "  </div>\n"
            ],
            "application/vnd.google.colaboratory.intrinsic+json": {
              "type": "dataframe",
              "repr_error": "'str' object has no attribute 'empty'"
            }
          },
          "metadata": {},
          "execution_count": 46
        }
      ]
    },
    {
      "cell_type": "markdown",
      "source": [
        "# **Turning the CSV file to a word document**\n",
        "\n",
        "> Indented block\n",
        "\n"
      ],
      "metadata": {
        "id": "ps70M-854JHp"
      }
    },
    {
      "cell_type": "code",
      "source": [
        "# Create a new Word document\n",
        "doc = Document()"
      ],
      "metadata": {
        "id": "_3hi6btN4Qzx"
      },
      "execution_count": 47,
      "outputs": []
    },
    {
      "cell_type": "code",
      "source": [
        "# Initialize a question counter\n",
        "question_counter = 1"
      ],
      "metadata": {
        "id": "wQQV_tEW60JV"
      },
      "execution_count": 48,
      "outputs": []
    },
    {
      "cell_type": "code",
      "source": [
        "# Iterate over the rows of the DataFrame\n",
        "for i, row in StarTechBot_Laptop_Data.iterrows():\n",
        "    # Create the questions and answers\n",
        "    q1 = f\"Question {question_counter}: What are the details of {row['Product Name']}?\"\n",
        "    a1 = f\"Answer: {row['Product Name']} has - Processor type: {row['Processor Type']}; RAM: {row['RAM']}; Storage: {row['Storage']}; Display: {row['Display']}; Features: {row['Features']}. It's price is {row['Price']} BDT.\"\n",
        "    question_counter += 1\n",
        "\n",
        "    q2 = f\"Question {question_counter}: What is the price of {row['Product Name']}?\"\n",
        "    a2 = f\"Answer: It's price is {row['Price']} BDT.\"\n",
        "    question_counter += 1\n",
        "\n",
        "    q3 = f\"Question {question_counter}: What are the features of {row['Product Name']}?\"\n",
        "    a3 = a1\n",
        "    question_counter += 1\n",
        "\n",
        "\n",
        "    # Add the questions and answers to the Word document\n",
        "    doc.add_paragraph(q1)\n",
        "    doc.add_paragraph(a1)\n",
        "    doc.add_paragraph(q2)\n",
        "    doc.add_paragraph(a2)\n",
        "    doc.add_paragraph(q3)\n",
        "    doc.add_paragraph(a3)\n",
        "\n",
        "# Save the Word document\n",
        "doc.save('StarTechBot_Laptop_Data.docx')"
      ],
      "metadata": {
        "id": "hYcwAiiv4onk"
      },
      "execution_count": 49,
      "outputs": []
    },
    {
      "cell_type": "code",
      "source": [
        "files.download('StarTechBot_Laptop_Data.docx')"
      ],
      "metadata": {
        "colab": {
          "base_uri": "https://localhost:8080/",
          "height": 17
        },
        "id": "iIbVffa-5sUQ",
        "outputId": "549c92e4-36e4-4de0-aeb2-d5a9301b2d8a"
      },
      "execution_count": 50,
      "outputs": [
        {
          "output_type": "display_data",
          "data": {
            "text/plain": [
              "<IPython.core.display.Javascript object>"
            ],
            "application/javascript": [
              "\n",
              "    async function download(id, filename, size) {\n",
              "      if (!google.colab.kernel.accessAllowed) {\n",
              "        return;\n",
              "      }\n",
              "      const div = document.createElement('div');\n",
              "      const label = document.createElement('label');\n",
              "      label.textContent = `Downloading \"${filename}\": `;\n",
              "      div.appendChild(label);\n",
              "      const progress = document.createElement('progress');\n",
              "      progress.max = size;\n",
              "      div.appendChild(progress);\n",
              "      document.body.appendChild(div);\n",
              "\n",
              "      const buffers = [];\n",
              "      let downloaded = 0;\n",
              "\n",
              "      const channel = await google.colab.kernel.comms.open(id);\n",
              "      // Send a message to notify the kernel that we're ready.\n",
              "      channel.send({})\n",
              "\n",
              "      for await (const message of channel.messages) {\n",
              "        // Send a message to notify the kernel that we're ready.\n",
              "        channel.send({})\n",
              "        if (message.buffers) {\n",
              "          for (const buffer of message.buffers) {\n",
              "            buffers.push(buffer);\n",
              "            downloaded += buffer.byteLength;\n",
              "            progress.value = downloaded;\n",
              "          }\n",
              "        }\n",
              "      }\n",
              "      const blob = new Blob(buffers, {type: 'application/binary'});\n",
              "      const a = document.createElement('a');\n",
              "      a.href = window.URL.createObjectURL(blob);\n",
              "      a.download = filename;\n",
              "      div.appendChild(a);\n",
              "      a.click();\n",
              "      div.remove();\n",
              "    }\n",
              "  "
            ]
          },
          "metadata": {}
        },
        {
          "output_type": "display_data",
          "data": {
            "text/plain": [
              "<IPython.core.display.Javascript object>"
            ],
            "application/javascript": [
              "download(\"download_f09b7b23-c0ff-4e59-b1e7-dd00420e6e90\", \"StarTechBot_Laptop_Data.docx\", 36563)"
            ]
          },
          "metadata": {}
        }
      ]
    }
  ]
}